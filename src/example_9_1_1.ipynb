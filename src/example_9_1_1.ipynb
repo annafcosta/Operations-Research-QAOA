{
 "cells": [
  {
   "cell_type": "code",
   "execution_count": 5,
   "metadata": {},
   "outputs": [],
   "source": [
    "from pyomo.environ import *\n",
    "\n",
    "import qiskit\n",
    "from qiskit_optimization import QuadraticProgram\n",
    "from qiskit_optimization.converters import QuadraticProgramToQubo"
   ]
  },
  {
   "cell_type": "code",
   "execution_count": 13,
   "metadata": {},
   "outputs": [],
   "source": [
    "project_selection_model = ConcreteModel()\n",
    "\n",
    "#Problem data definition:\n",
    "projects = [1, 2, 3, 4, 5]\n",
    "returns = {1: 20, 2: 40, 3: 20, 4: 15, 5: 30}\n",
    "cost = {\n",
    "    1: [5, 5, 8],\n",
    "    2: [4, 7, 10],\n",
    "    3: [3, 9, 2],\n",
    "    4: [7, 4, 3],\n",
    "    5: [8, 6, 10]\n",
    "}\n",
    "\n",
    "annual_budget = [25, 25, 25]\n",
    "\n",
    "#Decision variables\n",
    "project_selection_model.x = Var(projects, within=Binary)\n",
    "\n",
    "#OBJECTIVE FUNCTION: maximize total return\n",
    "project_selection_model.obj = Objective(\n",
    "    expr=sum(returns[j] * project_selection_model.x[j] for j in projects),\n",
    "    sense=maximize\n",
    ")\n"
   ]
  },
  {
   "cell_type": "code",
   "execution_count": 14,
   "metadata": {},
   "outputs": [],
   "source": [
    "#Applying the restrictions\n",
    "project_selection_model.ano1_constraint = Constraint(\n",
    "    expr=sum(cost[j][0] * project_selection_model.x[j] for j in projects) <= annual_budget[0]\n",
    ")\n",
    "project_selection_model.ano2_constraint = Constraint(\n",
    "    expr=sum(cost[j][1] * project_selection_model.x[j] for j in projects) <= annual_budget[1]\n",
    ")\n",
    "project_selection_model.y3_constraint = Constraint(\n",
    "    expr=sum(cost[j][2] * project_selection_model.x[j] for j in projects) <= annual_budget[2]\n",
    ")"
   ]
  },
  {
   "cell_type": "code",
   "execution_count": 16,
   "metadata": {},
   "outputs": [
    {
     "name": "stdout",
     "output_type": "stream",
     "text": [
      "Optimization Status: ok\n",
      "Solution Status: optimal\n",
      "\n",
      "Selected Projects:\n",
      "Project 1: Selected\n",
      "Project 2: Selected\n",
      "Project 3: Selected\n",
      "Project 4: Selected\n",
      "\n",
      "Total Return: 95.0\n"
     ]
    }
   ],
   "source": [
    "solver = SolverFactory('glpk')\n",
    "result = solver.solve(project_selection_model)\n",
    "\n",
    "print(\"Optimization Status:\", result.solver.status)\n",
    "print(\"Solution Status:\", result.solver.termination_condition)\n",
    "\n",
    "print(\"\\nSelected Projects:\")\n",
    "for j in projects:\n",
    "    if project_selection_model.x[j].value == 1:\n",
    "        print(f\"Project {j}: Selected\")\n",
    "\n",
    "print(\"\\nTotal Return:\", project_selection_model.obj())"
   ]
  }
 ],
 "metadata": {
  "kernelspec": {
   "display_name": "Python 3",
   "language": "python",
   "name": "python3"
  },
  "language_info": {
   "codemirror_mode": {
    "name": "ipython",
    "version": 3
   },
   "file_extension": ".py",
   "mimetype": "text/x-python",
   "name": "python",
   "nbconvert_exporter": "python",
   "pygments_lexer": "ipython3",
   "version": "3.10.12"
  }
 },
 "nbformat": 4,
 "nbformat_minor": 2
}
