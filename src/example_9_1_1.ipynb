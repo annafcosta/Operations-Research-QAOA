{
 "cells": [
  {
   "cell_type": "code",
   "execution_count": 1,
   "metadata": {},
   "outputs": [],
   "source": [
    "from pyomo.environ import *\n",
    "import numpy as np\n",
    "import qiskit\n",
    "from qiskit_algorithms.utils import algorithm_globals\n",
    "from qiskit_algorithms import QAOA, NumPyMinimumEigensolver\n",
    "from qiskit.primitives import Sampler\n",
    "from qiskit_optimization.problems import QuadraticProgram\n",
    "from qiskit_optimization.converters import QuadraticProgramToQubo\n",
    "from qiskit_optimization.algorithms import MinimumEigenOptimizer\n",
    "from qiskit_algorithms.optimizers import COBYLA"
   ]
  },
  {
   "cell_type": "markdown",
   "metadata": {},
   "source": [
    "### Problema: \n",
    "\n",
    "O problema envolve a seleção de projetos em três anos, com o objetivo de maximizar o retorno financeiro dos projetos escolhidos, sob a condição de que os desembolsos anuais não ultrapassem os fundos disponíveis para cada ano.\n",
    "\n",
    "$$\\text{Maximize } z = 20x_1 + 40x_2 + 20x_3 + 15x_4 + 30x_5$$\n",
    "\n",
    "#### Restrições\n",
    "\n",
    "Ano 1: $ 5x_1 + 4x_2 + 3x_3 + 7x_4 + 8x_5 \\leq 25$\n",
    "\n",
    "Ano 2: $ 5x_1 + 7x_2 + 9x_3 + 4x_4 + 6x_5 \\leq 25$\n",
    "\n",
    "Ano 3: $ 8x_1 + 10x_2 + 2x_3 + 3x_4 + 10x_5 \\leq 25$\n",
    "\n"
   ]
  },
  {
   "cell_type": "code",
   "execution_count": 2,
   "metadata": {},
   "outputs": [],
   "source": [
    "project_selection_model = ConcreteModel()\n",
    "\n",
    "#Problem data definition:\n",
    "projects = [1, 2, 3, 4, 5]\n",
    "returns = {1: 20, 2: 40, 3: 20, 4: 15, 5: 30}\n",
    "cost = {\n",
    "    1: [5, 5, 8],\n",
    "    2: [4, 7, 10],\n",
    "    3: [3, 9, 2],\n",
    "    4: [7, 4, 3],\n",
    "    5: [8, 6, 10]\n",
    "}\n",
    "\n",
    "annual_budget = [25, 25, 25]\n",
    "\n",
    "#Decision variables\n",
    "project_selection_model.x = Var(projects, within=Binary)\n",
    "\n",
    "#OBJECTIVE FUNCTION: maximize total return\n",
    "project_selection_model.obj = Objective(\n",
    "    expr=sum(returns[j] * project_selection_model.x[j] for j in projects),\n",
    "    sense=maximize\n",
    ")\n"
   ]
  },
  {
   "cell_type": "code",
   "execution_count": 3,
   "metadata": {},
   "outputs": [],
   "source": [
    "#Applying the restrictions\n",
    "project_selection_model.ano1_constraint = Constraint(\n",
    "    expr=sum(cost[j][0] * project_selection_model.x[j] for j in projects) <= annual_budget[0]\n",
    ")\n",
    "project_selection_model.ano2_constraint = Constraint(\n",
    "    expr=sum(cost[j][1] * project_selection_model.x[j] for j in projects) <= annual_budget[1]\n",
    ")\n",
    "project_selection_model.y3_constraint = Constraint(\n",
    "    expr=sum(cost[j][2] * project_selection_model.x[j] for j in projects) <= annual_budget[2]\n",
    ")"
   ]
  },
  {
   "cell_type": "code",
   "execution_count": 4,
   "metadata": {},
   "outputs": [
    {
     "name": "stdout",
     "output_type": "stream",
     "text": [
      "Optimization Status: ok\n",
      "Solution Status: optimal\n",
      "\n",
      "Selected Projects:\n",
      "Project 1: Selected\n",
      "Project 2: Selected\n",
      "Project 3: Selected\n",
      "Project 4: Selected\n",
      "\n",
      "Total Return: 95.0\n"
     ]
    }
   ],
   "source": [
    "solver = SolverFactory('glpk')\n",
    "result = solver.solve(project_selection_model)\n",
    "\n",
    "print(\"Optimization Status:\", result.solver.status)\n",
    "print(\"Solution Status:\", result.solver.termination_condition)\n",
    "\n",
    "print(\"\\nSelected Projects:\")\n",
    "for j in projects:\n",
    "    if project_selection_model.x[j].value == 1:\n",
    "        print(f\"Project {j}: Selected\")\n",
    "\n",
    "print(\"\\nTotal Return:\", project_selection_model.obj())"
   ]
  },
  {
   "cell_type": "markdown",
   "metadata": {},
   "source": [
    "### Transcrevendo o problema para o tipo QUBO:"
   ]
  },
  {
   "cell_type": "markdown",
   "metadata": {},
   "source": [
    "$$\n",
    "\\min_{x \\in \\{0,1\\}^n} -\\mu^T x + \\alpha (1^T x - B)^2\n",
    "$$\n",
    "\n",
    "onde, \n",
    "\n",
    "- $x \\in \\{0,1\\}^n$ vetor de variáveis binárias que indica quais projetos são selecionados $(x_j = 1)$ e quais não são $(x_j = 0)$.\n",
    "\n",
    "- $\\mu \\in \\mathbb{R}^n$ define os retornos esperados dos projetos.\n",
    "\n",
    "- $ \\alpha (1^T x - B)^2$ é uma penalidade que força a seleção de exatamente \n",
    "$B$ projetos. \n",
    "\n",
    "- $\\alpha > 0$ é um peso que impõe a penalidade para garantir que exatamente $B$ projetos sejam selecionados.\n"
   ]
  },
  {
   "cell_type": "code",
   "execution_count": 28,
   "metadata": {},
   "outputs": [],
   "source": [
    "mu = [20, 40, 20, 15, 30] # Expected returns from each project\n",
    "alpha = 1 # Penalty \n",
    "n = len(mu) # Number of projects"
   ]
  },
  {
   "cell_type": "code",
   "execution_count": 29,
   "metadata": {},
   "outputs": [
    {
     "name": "stdout",
     "output_type": "stream",
     "text": [
      "[[0. 0. 0. 0. 0.]\n",
      " [0. 0. 0. 0. 0.]\n",
      " [0. 0. 0. 0. 0.]\n",
      " [0. 0. 0. 0. 0.]\n",
      " [0. 0. 0. 0. 0.]]\n"
     ]
    }
   ],
   "source": [
    "cov_matrix = np.zeros((n, n))\n",
    "print(cov_matrix)"
   ]
  },
  {
   "cell_type": "code",
   "execution_count": 30,
   "metadata": {},
   "outputs": [
    {
     "name": "stdout",
     "output_type": "stream",
     "text": [
      "Problem name: Project Selection\n",
      "\n",
      "Minimize\n",
      "  0\n",
      "\n",
      "Subject to\n",
      "  No constraints\n",
      "\n",
      "  No variables\n",
      "\n"
     ]
    }
   ],
   "source": [
    "projectSelectionQP = QuadraticProgram(\"Project Selection\")\n",
    "\n",
    "print(projectSelectionQP.prettyprint())"
   ]
  },
  {
   "cell_type": "code",
   "execution_count": 31,
   "metadata": {},
   "outputs": [],
   "source": [
    "for i in range(n):\n",
    "    projectSelectionQP.binary_var(name=f'x{i}')"
   ]
  },
  {
   "cell_type": "code",
   "execution_count": 32,
   "metadata": {},
   "outputs": [
    {
     "data": {
      "text/plain": [
       "[-20, -40, -20, -15, -30]"
      ]
     },
     "execution_count": 32,
     "metadata": {},
     "output_type": "execute_result"
    }
   ],
   "source": [
    "linear = [-mu[i] for i in range(n)]\n",
    "linear"
   ]
  },
  {
   "cell_type": "code",
   "execution_count": 33,
   "metadata": {},
   "outputs": [
    {
     "data": {
      "text/plain": [
       "{('x0', 'x0'): 0,\n",
       " ('x0', 'x1'): 0,\n",
       " ('x0', 'x2'): 0,\n",
       " ('x0', 'x3'): 0,\n",
       " ('x0', 'x4'): 0,\n",
       " ('x1', 'x1'): 0,\n",
       " ('x1', 'x2'): 0,\n",
       " ('x1', 'x3'): 0,\n",
       " ('x1', 'x4'): 0,\n",
       " ('x2', 'x2'): 0,\n",
       " ('x2', 'x3'): 0,\n",
       " ('x2', 'x4'): 0,\n",
       " ('x3', 'x3'): 0,\n",
       " ('x3', 'x4'): 0,\n",
       " ('x4', 'x4'): 0}"
      ]
     },
     "execution_count": 33,
     "metadata": {},
     "output_type": "execute_result"
    }
   ],
   "source": [
    "quadratic = {(f'x{i}', f'x{j}'): 0 for i in range(n) for j in range(i, n)}\n",
    "quadratic"
   ]
  },
  {
   "cell_type": "code",
   "execution_count": 34,
   "metadata": {},
   "outputs": [
    {
     "name": "stdout",
     "output_type": "stream",
     "text": [
      "Problem name: Project Selection\n",
      "\n",
      "Minimize\n",
      "  -20*x0 - 40*x1 - 20*x2 - 15*x3 - 30*x4\n",
      "\n",
      "Subject to\n",
      "  Linear constraints (3)\n",
      "    5*x0 + 4*x1 + 3*x2 + 7*x3 + 8*x4 <= 25  'c0'\n",
      "    5*x0 + 7*x1 + 9*x2 + 4*x3 + 6*x4 <= 25  'c1'\n",
      "    8*x0 + 10*x1 + 2*x2 + 3*x3 + 10*x4 <= 25  'c2'\n",
      "\n",
      "  Binary variables (5)\n",
      "    x0 x1 x2 x3 x4\n",
      "\n"
     ]
    }
   ],
   "source": [
    "projectSelectionQP.minimize(constant=0, linear=dict(zip([f'x{i}' for i in range(n)], linear)), quadratic=quadratic)\n",
    "\n",
    "projectSelectionQP.linear_constraint(\n",
    "    linear={'x0': 5, 'x1': 4, 'x2': 3, 'x3': 7, 'x4': 8},\n",
    "    sense='<=',\n",
    "    rhs=25\n",
    ")\n",
    "\n",
    "projectSelectionQP.linear_constraint(\n",
    "    linear={'x0': 5, 'x1': 7, 'x2': 9, 'x3': 4, 'x4': 6},\n",
    "    sense='<=',\n",
    "    rhs=25\n",
    ")\n",
    "\n",
    "projectSelectionQP.linear_constraint(\n",
    "    linear={'x0': 8, 'x1': 10, 'x2': 2, 'x3': 3, 'x4': 10},\n",
    "    sense='<=',\n",
    "    rhs=25\n",
    ")\n",
    "\n",
    "print(projectSelectionQP.prettyprint())"
   ]
  },
  {
   "cell_type": "code",
   "execution_count": 35,
   "metadata": {},
   "outputs": [
    {
     "name": "stderr",
     "output_type": "stream",
     "text": [
      "/tmp/ipykernel_14710/1337795679.py:3: DeprecationWarning: The class ``qiskit.primitives.sampler.Sampler`` is deprecated as of qiskit 1.2. It will be removed no earlier than 3 months after the release date. All implementations of the `BaseSamplerV1` interface have been deprecated in favor of their V2 counterparts. The V2 alternative for the `Sampler` class is `StatevectorSampler`.\n",
      "  qaoa_mes = QAOA(sampler=Sampler(), optimizer=COBYLA(), initial_point=[0.0, 0.0])\n"
     ]
    }
   ],
   "source": [
    "algorithm_globals.random_seed = 10598\n",
    "\n",
    "qaoa_mes = QAOA(sampler=Sampler(), optimizer=COBYLA(), initial_point=[0.0, 0.0])\n",
    "exact_mes = NumPyMinimumEigensolver()"
   ]
  },
  {
   "cell_type": "code",
   "execution_count": 36,
   "metadata": {},
   "outputs": [
    {
     "name": "stdout",
     "output_type": "stream",
     "text": [
      "objective function value: -95.0\n",
      "variable values: x0=1.0, x1=1.0, x2=1.0, x3=1.0, x4=0.0\n",
      "status: SUCCESS\n"
     ]
    }
   ],
   "source": [
    "exact_optimizer = MinimumEigenOptimizer(exact_mes)\n",
    "exact_result = exact_optimizer.solve(projectSelectionQP)\n",
    "print(exact_result.prettyprint())"
   ]
  },
  {
   "cell_type": "code",
   "execution_count": 37,
   "metadata": {},
   "outputs": [
    {
     "name": "stdout",
     "output_type": "stream",
     "text": [
      "objective function value: -95.0\n",
      "variable values: x0=1.0, x1=1.0, x2=1.0, x3=1.0, x4=0.0\n",
      "status: SUCCESS\n"
     ]
    }
   ],
   "source": [
    "qaoa_result = exact_optimizer.solve(projectSelectionQP)\n",
    "print(qaoa_result.prettyprint())"
   ]
  },
  {
   "cell_type": "markdown",
   "metadata": {},
   "source": [
    "### Hamiltonian and QAOA circuit"
   ]
  },
  {
   "cell_type": "code",
   "execution_count": 43,
   "metadata": {},
   "outputs": [
    {
     "name": "stdout",
     "output_type": "stream",
     "text": [
      "Problem name: Project Selection\n",
      "\n",
      "Minimize\n",
      "  126*c0@int_slack@0^2 + 504*c0@int_slack@0*c0@int_slack@1\n",
      "  + 1008*c0@int_slack@0*c0@int_slack@2 + 2016*c0@int_slack@0*c0@int_slack@3\n",
      "  + 2520*c0@int_slack@0*c0@int_slack@4 + 504*c0@int_slack@1^2\n",
      "  + 2016*c0@int_slack@1*c0@int_slack@2 + 4032*c0@int_slack@1*c0@int_slack@3\n",
      "  + 5040*c0@int_slack@1*c0@int_slack@4 + 2016*c0@int_slack@2^2\n",
      "  + 8064*c0@int_slack@2*c0@int_slack@3 + 10080*c0@int_slack@2*c0@int_slack@4\n",
      "  + 8064*c0@int_slack@3^2 + 20160*c0@int_slack@3*c0@int_slack@4\n",
      "  + 12600*c0@int_slack@4^2 + 126*c1@int_slack@0^2\n",
      "  + 504*c1@int_slack@0*c1@int_slack@1 + 1008*c1@int_slack@0*c1@int_slack@2\n",
      "  + 2016*c1@int_slack@0*c1@int_slack@3 + 2520*c1@int_slack@0*c1@int_slack@4\n",
      "  + 504*c1@int_slack@1^2 + 2016*c1@int_slack@1*c1@int_slack@2\n",
      "  + 4032*c1@int_slack@1*c1@int_slack@3 + 5040*c1@int_slack@1*c1@int_slack@4\n",
      "  + 2016*c1@int_slack@2^2 + 8064*c1@int_slack@2*c1@int_slack@3\n",
      "  + 10080*c1@int_slack@2*c1@int_slack@4 + 8064*c1@int_slack@3^2\n",
      "  + 20160*c1@int_slack@3*c1@int_slack@4 + 12600*c1@int_slack@4^2\n",
      "  + 126*c2@int_slack@0^2 + 504*c2@int_slack@0*c2@int_slack@1\n",
      "  + 1008*c2@int_slack@0*c2@int_slack@2 + 2016*c2@int_slack@0*c2@int_slack@3\n",
      "  + 2520*c2@int_slack@0*c2@int_slack@4 + 504*c2@int_slack@1^2\n",
      "  + 2016*c2@int_slack@1*c2@int_slack@2 + 4032*c2@int_slack@1*c2@int_slack@3\n",
      "  + 5040*c2@int_slack@1*c2@int_slack@4 + 2016*c2@int_slack@2^2\n",
      "  + 8064*c2@int_slack@2*c2@int_slack@3 + 10080*c2@int_slack@2*c2@int_slack@4\n",
      "  + 8064*c2@int_slack@3^2 + 20160*c2@int_slack@3*c2@int_slack@4\n",
      "  + 12600*c2@int_slack@4^2 + 1260*x0*c0@int_slack@0 + 2520*x0*c0@int_slack@1\n",
      "  + 5040*x0*c0@int_slack@2 + 10080*x0*c0@int_slack@3 + 12600*x0*c0@int_slack@4\n",
      "  + 1260*x0*c1@int_slack@0 + 2520*x0*c1@int_slack@1 + 5040*x0*c1@int_slack@2\n",
      "  + 10080*x0*c1@int_slack@3 + 12600*x0*c1@int_slack@4 + 2016*x0*c2@int_slack@0\n",
      "  + 4032*x0*c2@int_slack@1 + 8064*x0*c2@int_slack@2 + 16128*x0*c2@int_slack@3\n",
      "  + 20160*x0*c2@int_slack@4 + 14364*x0^2 + 34020*x0*x1 + 19152*x0*x2\n",
      "  + 19908*x0*x3 + 37800*x0*x4 + 1008*x1*c0@int_slack@0 + 2016*x1*c0@int_slack@1\n",
      "  + 4032*x1*c0@int_slack@2 + 8064*x1*c0@int_slack@3 + 10080*x1*c0@int_slack@4\n",
      "  + 1764*x1*c1@int_slack@0 + 3528*x1*c1@int_slack@1 + 7056*x1*c1@int_slack@2\n",
      "  + 14112*x1*c1@int_slack@3 + 17640*x1*c1@int_slack@4 + 2520*x1*c2@int_slack@0\n",
      "  + 5040*x1*c2@int_slack@1 + 10080*x1*c2@int_slack@2 + 20160*x1*c2@int_slack@3\n",
      "  + 25200*x1*c2@int_slack@4 + 20790*x1^2 + 23940*x1*x2 + 21672*x1*x3\n",
      "  + 43848*x1*x4 + 756*x2*c0@int_slack@0 + 1512*x2*c0@int_slack@1\n",
      "  + 3024*x2*c0@int_slack@2 + 6048*x2*c0@int_slack@3 + 7560*x2*c0@int_slack@4\n",
      "  + 2268*x2*c1@int_slack@0 + 4536*x2*c1@int_slack@1 + 9072*x2*c1@int_slack@2\n",
      "  + 18144*x2*c1@int_slack@3 + 22680*x2*c1@int_slack@4 + 504*x2*c2@int_slack@0\n",
      "  + 1008*x2*c2@int_slack@1 + 2016*x2*c2@int_slack@2 + 4032*x2*c2@int_slack@3\n",
      "  + 5040*x2*c2@int_slack@4 + 11844*x2^2 + 15876*x2*x3 + 24696*x2*x4\n",
      "  + 1764*x3*c0@int_slack@0 + 3528*x3*c0@int_slack@1 + 7056*x3*c0@int_slack@2\n",
      "  + 14112*x3*c0@int_slack@3 + 17640*x3*c0@int_slack@4 + 1008*x3*c1@int_slack@0\n",
      "  + 2016*x3*c1@int_slack@1 + 4032*x3*c1@int_slack@2 + 8064*x3*c1@int_slack@3\n",
      "  + 10080*x3*c1@int_slack@4 + 756*x3*c2@int_slack@0 + 1512*x3*c2@int_slack@1\n",
      "  + 3024*x3*c2@int_slack@2 + 6048*x3*c2@int_slack@3 + 7560*x3*c2@int_slack@4\n",
      "  + 9324*x3^2 + 27720*x3*x4 + 2016*x4*c0@int_slack@0 + 4032*x4*c0@int_slack@1\n",
      "  + 8064*x4*c0@int_slack@2 + 16128*x4*c0@int_slack@3 + 20160*x4*c0@int_slack@4\n",
      "  + 1512*x4*c1@int_slack@0 + 3024*x4*c1@int_slack@1 + 6048*x4*c1@int_slack@2\n",
      "  + 12096*x4*c1@int_slack@3 + 15120*x4*c1@int_slack@4 + 2520*x4*c2@int_slack@0\n",
      "  + 5040*x4*c2@int_slack@1 + 10080*x4*c2@int_slack@2 + 20160*x4*c2@int_slack@3\n",
      "  + 25200*x4*c2@int_slack@4 + 25200*x4^2 - 6300*c0@int_slack@0\n",
      "  - 12600*c0@int_slack@1 - 25200*c0@int_slack@2 - 50400*c0@int_slack@3\n",
      "  - 63000*c0@int_slack@4 - 6300*c1@int_slack@0 - 12600*c1@int_slack@1\n",
      "  - 25200*c1@int_slack@2 - 50400*c1@int_slack@3 - 63000*c1@int_slack@4\n",
      "  - 6300*c2@int_slack@0 - 12600*c2@int_slack@1 - 25200*c2@int_slack@2\n",
      "  - 50400*c2@int_slack@3 - 63000*c2@int_slack@4 - 113420*x0 - 132340*x1\n",
      "  - 88220*x2 - 88215*x3 - 151230*x4 + 236250\n",
      "\n",
      "Subject to\n",
      "  No constraints\n",
      "\n",
      "  Binary variables (20)\n",
      "    x0 x1 x2 x3 x4 c0@int_slack@0 c0@int_slack@1 c0@int_slack@2 c0@int_slack@3\n",
      "    c0@int_slack@4 c1@int_slack@0 c1@int_slack@1 c1@int_slack@2 c1@int_slack@3\n",
      "    c1@int_slack@4 c2@int_slack@0 c2@int_slack@1 c2@int_slack@2 c2@int_slack@3\n",
      "    c2@int_slack@4\n",
      "\n"
     ]
    }
   ],
   "source": [
    "qubo = QuadraticProgramToQubo().convert(projectSelectionQP)\n",
    "print(qubo.prettyprint())"
   ]
  },
  {
   "cell_type": "code",
   "execution_count": null,
   "metadata": {},
   "outputs": [],
   "source": []
  }
 ],
 "metadata": {
  "kernelspec": {
   "display_name": "Python 3",
   "language": "python",
   "name": "python3"
  },
  "language_info": {
   "codemirror_mode": {
    "name": "ipython",
    "version": 3
   },
   "file_extension": ".py",
   "mimetype": "text/x-python",
   "name": "python",
   "nbconvert_exporter": "python",
   "pygments_lexer": "ipython3",
   "version": "3.10.12"
  }
 },
 "nbformat": 4,
 "nbformat_minor": 2
}
