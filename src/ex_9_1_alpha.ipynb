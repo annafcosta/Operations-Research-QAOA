{
 "cells": [
  {
   "cell_type": "code",
   "execution_count": 1,
   "metadata": {},
   "outputs": [],
   "source": [
    "import warnings\n",
    "\n",
    "warnings.filterwarnings(\"ignore\", category=DeprecationWarning)\n",
    "warnings.filterwarnings(\"ignore\", category=UserWarning)"
   ]
  },
  {
   "cell_type": "code",
   "execution_count": 2,
   "metadata": {},
   "outputs": [],
   "source": [
    "from qiskit_optimization.problems import QuadraticProgram\n",
    "from qiskit_optimization.converters import QuadraticProgramToQubo\n",
    "import numpy as np\n",
    "from qiskit_aer import AerSimulator\n",
    "from qiskit.transpiler.preset_passmanagers import generate_preset_pass_manager\n",
    "from qiskit.circuit.library import QAOAAnsatz\n",
    "from qiskit_ibm_runtime import Session, SamplerV2 as Sampler, EstimatorV2 as Estimator\n",
    "from scipy.optimize import minimize\n",
    "import matplotlib.pyplot as plt"
   ]
  },
  {
   "cell_type": "code",
   "execution_count": 22,
   "metadata": {},
   "outputs": [],
   "source": [
    "def declare_project_selection(alpha):\n",
    "    mu = [20, 40, 20, 15, 30]  # Expected returns from each project\n",
    "    constraints = [\n",
    "        [5, 4, 3, 7, 8],  # restriction 1\n",
    "        [5, 7, 9, 4, 6],  # restriction 2\n",
    "        [8, 10, 2, 3, 10],  # restriction 3\n",
    "    ]\n",
    "    rhs = [25, 25, 25]\n",
    "    \n",
    "    n = len(mu)  # Number of projects\n",
    "    \n",
    "    # Initialize Quadratic Program\n",
    "    projectSelectionQP = QuadraticProgram(\"Project Selection\")\n",
    "    \n",
    "    for i in range(n):\n",
    "        projectSelectionQP.binary_var(name=f'x{i}')\n",
    "\n",
    "    linear = [-mu[i] for i in range(n)]\n",
    "    projectSelectionQP.minimize(linear=dict(zip([f'x{i}' for i in range(n)], linear)))\n",
    "\n",
    "    for k, (constraint, limit) in enumerate(zip(constraints, rhs)):\n",
    "\n",
    "        penalty = {f'x{i}': coef for i, coef in enumerate(constraint)}\n",
    "    \n",
    "\n",
    "        projectSelectionQP.minimize(\n",
    "            quadratic={(f'x{i}', f'x{j}'): alpha * penalty[f'x{i}'] * penalty[f'x{j}']\n",
    "                   for i in range(n) for j in range(n)},\n",
    "            linear={f'x{i}': -2 * alpha * limit * penalty[f'x{i}'] for i in range(n)},\n",
    "            constant=alpha * limit**2\n",
    "        )\n",
    "    \n",
    "    return projectSelectionQP"
   ]
  },
  {
   "cell_type": "code",
   "execution_count": 4,
   "metadata": {},
   "outputs": [],
   "source": [
    "def declare_qubo_problem(classic_problem, penalty):\n",
    "    #Convert a classical quadratic problem to a QUBO problem.\n",
    "    qubo_problem = QuadraticProgramToQubo(penalty=penalty).convert(classic_problem)\n",
    "    return qubo_problem"
   ]
  },
  {
   "cell_type": "code",
   "execution_count": 6,
   "metadata": {},
   "outputs": [],
   "source": [
    "def hamiltonian_offset(qubo_problem):\n",
    "    #Extract the Hamiltonian and offset from a QUBO problem.\n",
    "    return qubo_problem.to_ising()"
   ]
  },
  {
   "cell_type": "code",
   "execution_count": 5,
   "metadata": {},
   "outputs": [],
   "source": [
    "def cost_func(params, ansatz, hamiltonian, estimator):\n",
    "    \"\"\"Return estimate of energy from estimator\n",
    "\n",
    "    Parameters:\n",
    "        params (ndarray): Array of ansatz parameters\n",
    "        ansatz (QuantumCircuit): Parameterized ansatz circuit\n",
    "        hamiltonian (SparsePauliOp): Operator representation of Hamiltonian\n",
    "        estimator (EstimatorV2): Estimator primitive instance\n",
    "\n",
    "    Returns:\n",
    "        float: Energy estimate\n",
    "    \"\"\"\n",
    "    pub = (ansatz, [hamiltonian], [params])\n",
    "    result = estimator.run(pubs=[pub]).result()\n",
    "    cost = result[0].data.evs[0]\n",
    "\n",
    "    return cost"
   ]
  },
  {
   "cell_type": "code",
   "execution_count": 23,
   "metadata": {},
   "outputs": [
    {
     "name": "stdout",
     "output_type": "stream",
     "text": [
      "Problem name: Project Selection\n",
      "\n",
      "Minimize\n",
      "  64*x0^2 + 160*x0*x1 + 32*x0*x2 + 48*x0*x3 + 160*x0*x4 + 100*x1^2 + 40*x1*x2\n",
      "  + 60*x1*x3 + 200*x1*x4 + 4*x2^2 + 12*x2*x3 + 40*x2*x4 + 9*x3^2 + 60*x3*x4\n",
      "  + 100*x4^2 - 400*x0 - 500*x1 - 100*x2 - 150*x3 - 500*x4 + 625\n",
      "\n",
      "Subject to\n",
      "  No constraints\n",
      "\n",
      "  Binary variables (5)\n",
      "    x0 x1 x2 x3 x4\n",
      "\n"
     ]
    }
   ],
   "source": [
    "alpha = 1.0 \n",
    "\n",
    "classic_problem = declare_project_selection(alpha)\n",
    "print(classic_problem.prettyprint())"
   ]
  },
  {
   "cell_type": "code",
   "execution_count": 24,
   "metadata": {},
   "outputs": [
    {
     "name": "stdout",
     "output_type": "stream",
     "text": [
      "Problem name: Project Selection\n",
      "\n",
      "Minimize\n",
      "  64*x0^2 + 160*x0*x1 + 32*x0*x2 + 48*x0*x3 + 160*x0*x4 + 100*x1^2 + 40*x1*x2\n",
      "  + 60*x1*x3 + 200*x1*x4 + 4*x2^2 + 12*x2*x3 + 40*x2*x4 + 9*x3^2 + 60*x3*x4\n",
      "  + 100*x4^2 - 400*x0 - 500*x1 - 100*x2 - 150*x3 - 500*x4 + 625\n",
      "\n",
      "Subject to\n",
      "  No constraints\n",
      "\n",
      "  Binary variables (5)\n",
      "    x0 x1 x2 x3 x4\n",
      "\n"
     ]
    }
   ],
   "source": [
    "penalty = 1\n",
    "\n",
    "qubo_problem = declare_qubo_problem(classic_problem, penalty)\n",
    "print(qubo_problem.prettyprint()) \n",
    "\n",
    "hamiltonian, offset = hamiltonian_offset(qubo_problem)"
   ]
  },
  {
   "cell_type": "code",
   "execution_count": 26,
   "metadata": {},
   "outputs": [
    {
     "data": {
      "text/plain": [
       "4.0"
      ]
     },
     "execution_count": 26,
     "metadata": {},
     "output_type": "execute_result"
    }
   ],
   "source": [
    "values = {'x1': 1, 'x2': 1, 'x3': 1, 'x4': 1, 'x5': 0}\n",
    "qubo_problem.objective.evaluate([values[f'x{i}'] for i in range(1, 6)])"
   ]
  },
  {
   "cell_type": "code",
   "execution_count": 28,
   "metadata": {},
   "outputs": [
    {
     "name": "stdout",
     "output_type": "stream",
     "text": [
      "F_max: 625.0\n",
      "F_min: 4.0\n"
     ]
    }
   ],
   "source": [
    "best_values = {'x1': 1, 'x2': 0, 'x3': 1, 'x4': 1, 'x5': 1}\n",
    "worst_values_feasible = {'x1': 0, 'x2': 0, 'x3': 0, 'x4': 0, 'x5': 0}\n",
    "worst_values = {'x1': 1, 'x2': 1, 'x3': 1, 'x4': 1, 'x5': 0}\n",
    "\n",
    "f_min = qubo_problem.objective.evaluate([best_values[f'x{i}'] for i in range(1, 6)])\n",
    "f_max = qubo_problem.objective.evaluate([worst_values_feasible[f'x{i}'] for i in range(1, 6)])\n",
    "\n",
    "print(\"F_max:\", f_max)\n",
    "print(\"F_min:\", f_min)"
   ]
  },
  {
   "cell_type": "code",
   "execution_count": 29,
   "metadata": {},
   "outputs": [],
   "source": [
    "def r(z, problem):\n",
    "    return (problem.objective.evaluate(z) - f_max) / (f_min - f_max)"
   ]
  },
  {
   "cell_type": "code",
   "execution_count": 30,
   "metadata": {},
   "outputs": [
    {
     "data": {
      "text/plain": [
       "(1.0, -0.0, 1.0)"
      ]
     },
     "execution_count": 30,
     "metadata": {},
     "output_type": "execute_result"
    }
   ],
   "source": [
    "r([best_values[f'x{i}'] for i in range(1, 6)], qubo_problem), r([worst_values_feasible[f'x{i}'] for i in range(1, 6)], qubo_problem), r([worst_values[f'x{i}'] for i in range(1, 6)], qubo_problem)"
   ]
  },
  {
   "cell_type": "code",
   "execution_count": 35,
   "metadata": {},
   "outputs": [],
   "source": [
    "def run_experiment_performance_measurement(n_range, p, shots_estimator, shots_sampler, level, h, qubo_problem):\n",
    "    aer_sim = AerSimulator()\n",
    "    pm = generate_preset_pass_manager(backend=aer_sim, optimization_level=level)\n",
    "\n",
    "    ansatz = QAOAAnsatz(h, reps=p)\n",
    "    ansatz_isa = pm.run(ansatz)\n",
    "    hamiltonian_isa = h.apply_layout(ansatz_isa.layout)\n",
    "\n",
    "    estimator = Estimator(backend=aer_sim)\n",
    "    estimator.options.default_shots = shots_estimator\n",
    "\n",
    "    sampler = Sampler(backend=aer_sim)\n",
    "    sampler.options.default_shots = shots_sampler\n",
    "    \n",
    "    results_x = []\n",
    "    for i in range(n_range):\n",
    "        x0 = 2 * np.pi * np.random.rand(ansatz_isa.num_parameters)\n",
    "        res = minimize(cost_func, x0, args=(ansatz_isa, hamiltonian_isa, estimator), method=\"COBYLA\")\n",
    "        ansatz_isa.decompose(reps=3).draw(output=\"mpl\", style=\"iqp\")\n",
    "        results_x.append(res.x)\n",
    "    results_x_mean = np.mean(results_x, axis=0)\n",
    "\n",
    "    qc = ansatz.assign_parameters(results_x_mean)\n",
    "    qc.measure_all()\n",
    "    qc_isa = pm.run(qc)\n",
    "\n",
    "    result = sampler.run([qc_isa]).result()\n",
    "    variables = [list(map(int, key)) for key in result[0].data.meas.get_counts().keys()]\n",
    "\n",
    "    approx_ratios = [r(z, qubo_problem) for z in variables]\n",
    "    mean_approx_ratio = np.mean(approx_ratios)\n",
    "    std_dev_approx_ratio = np.std(approx_ratios)\n",
    "    percent_between_0_and_1 = (sum(0 <= ratio <= 1 for ratio in approx_ratios) / len(approx_ratios)) * 100\n",
    "\n",
    "    approx_ratios_pos = [r(z, qubo_problem) for z in variables if r(z, qubo_problem) >= 0]\n",
    "    mean_approx_ratio_pos = np.mean(approx_ratios_pos)\n",
    "    std_dev_approx_ratio_pos = np.std(approx_ratios_pos)\n",
    "    \n",
    "    return mean_approx_ratio, std_dev_approx_ratio, percent_between_0_and_1, mean_approx_ratio_pos, std_dev_approx_ratio_pos"
   ]
  },
  {
   "cell_type": "code",
   "execution_count": 36,
   "metadata": {},
   "outputs": [],
   "source": [
    "def run_experiment_performance_measurement_alpha(alpha, n_range, p, shots_estimator, shots_sampler, level):\n",
    "    c_problem = declare_project_selection(alpha)\n",
    "\n",
    "    qubo = declare_qubo_problem(c_problem, 1)\n",
    "\n",
    "    hamiltonian, offset = hamiltonian_offset(qubo)\n",
    "\n",
    "    return run_experiment_performance_measurement(n_range, p, shots_estimator, shots_sampler, level, hamiltonian, qubo)"
   ]
  },
  {
   "cell_type": "code",
   "execution_count": 37,
   "metadata": {},
   "outputs": [],
   "source": [
    "alpha_values = list([1, 10, 100, 1000, 10000, 100000])\n",
    "\n",
    "r_means_alpha = []\n",
    "r_stds_alpha = []\n",
    "\n",
    "for alpha in alpha_values:\n",
    "    mean_r, std_r, percent_r, mean_r_pos, std_r_pos = run_experiment_performance_measurement_alpha(alpha, 40, 3, 1000, 1000, 1)\n",
    "    r_means_alpha.append(mean_r_pos)\n",
    "    r_stds_alpha.append(std_r_pos)"
   ]
  },
  {
   "cell_type": "code",
   "execution_count": 38,
   "metadata": {},
   "outputs": [
    {
     "data": {
      "image/png": "[encoded data removed]",
      "text/plain": [
       "<Figure size 640x480 with 1 Axes>"
      ]
     },
     "metadata": {},
     "output_type": "display_data"
    }
   ],
   "source": [
    "plt.errorbar(range(len(alpha_values)), r_means_alpha, yerr=r_stds_alpha, fmt='o-', color='purple', ecolor='black', capsize=5, label=\"Mean with Standard Deviation\")\n",
    "\n",
    "plt.xticks(range(len(alpha_values)), alpha_values)\n",
    "plt.xlabel(\"Alpha\")\n",
    "plt.ylabel(\"r\")\n",
    "plt.title(\"Performance Measurement - Varying Alpha\")\n",
    "plt.ylim(0.0, 1.1)\n",
    "plt.grid(True)\n",
    "plt.legend()\n",
    "plt.show()"
   ]
  }
 ],
 "metadata": {
  "kernelspec": {
   "display_name": "Python 3",
   "language": "python",
   "name": "python3"
  },
  "language_info": {
   "codemirror_mode": {
    "name": "ipython",
    "version": 3
   },
   "file_extension": ".py",
   "mimetype": "text/x-python",
   "name": "python",
   "nbconvert_exporter": "python",
   "pygments_lexer": "ipython3",
   "version": "3.10.12"
  }
 },
 "nbformat": 4,
 "nbformat_minor": 2
}
