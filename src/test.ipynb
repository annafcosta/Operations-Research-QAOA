{
 "cells": [
  {
   "cell_type": "code",
   "execution_count": 1,
   "metadata": {},
   "outputs": [],
   "source": [
    "import warnings\n",
    "warnings.filterwarnings(\"ignore\", category=DeprecationWarning)"
   ]
  },
  {
   "cell_type": "code",
   "execution_count": 2,
   "metadata": {},
   "outputs": [],
   "source": [
    "from qiskit_optimization.problems import QuadraticProgram\n",
    "from qiskit_optimization.converters import QuadraticProgramToQubo\n",
    "import numpy as np\n",
    "from qiskit_aer import AerSimulator\n",
    "from qiskit.transpiler.preset_passmanagers import generate_preset_pass_manager\n",
    "from qiskit.circuit.library import QAOAAnsatz\n",
    "from qiskit_ibm_runtime import Session, SamplerV2 as Sampler, EstimatorV2 as Estimator\n",
    "from scipy.optimize import minimize\n",
    "import matplotlib.pyplot as plt"
   ]
  },
  {
   "cell_type": "code",
   "execution_count": 12,
   "metadata": {},
   "outputs": [
    {
     "name": "stdout",
     "output_type": "stream",
     "text": [
      "Problem name: maximum coverage problem\n",
      "\n",
      "Minimize\n",
      "  10*x1*x2 + 10*x1*x3 + 10*x1*x4 + 10*x2*x4 + 10*x3*x4 - 29*x1 - 19*x2 - 19*x3\n",
      "  - 29*x4 + 50\n",
      "\n",
      "Subject to\n",
      "  No constraints\n",
      "\n",
      "  Binary variables (4)\n",
      "    x1 x2 x3 x4\n",
      "\n"
     ]
    }
   ],
   "source": [
    "# Initialize Quadratic Program\n",
    "mod = QuadraticProgram(\"maximum coverage problem\")\n",
    "\n",
    "# Define binary variables\n",
    "for i in range(4):\n",
    "    mod.binary_var(name=\"x\" + str(i + 1))\n",
    "\n",
    "# Define the linear term for the objective\n",
    "lin = np.ones(4)\n",
    "quad = np.zeros((4, 4))\n",
    "\n",
    "# Add the original objective: Minimize the sum of x_i\n",
    "mod.minimize(constant=0, linear=lin, quadratic=quad)\n",
    "\n",
    "# Adjust penalty weights\n",
    "alpha = 10  # High penalty for violations (x_i + x_j < 1)\n",
    "beta = 2    # Low penalty for excessive satisfaction (x_i + x_j > 1)\n",
    "\n",
    "penalties = [\n",
    "    (\"x1\", \"x2\"),\n",
    "    (\"x1\", \"x3\"),\n",
    "    (\"x1\", \"x4\"),\n",
    "    (\"x2\", \"x4\"),\n",
    "    (\"x3\", \"x4\"),\n",
    "]\n",
    "\n",
    "for var1, var2 in penalties:\n",
    "    # Penalty for under-satisfaction: alpha * (1 - x_i - x_j)^2\n",
    "    mod.objective.constant += alpha  # Constant term (from 1)\n",
    "    mod.objective.linear[var1] += -alpha  # Linear term for x_i\n",
    "    mod.objective.linear[var2] += -alpha  # Linear term for x_j\n",
    "    mod.objective.quadratic[var1, var2] += alpha  # Quadratic term for x_i * x_j\n",
    "\n",
    "    # Penalty for over-satisfaction: -gamma * x_i * x_j\n",
    "    #mod.objective.quadratic[var1, var2] -= beta\n",
    "\n",
    "# Display the problem\n",
    "print(mod.prettyprint())"
   ]
  },
  {
   "cell_type": "code",
   "execution_count": 13,
   "metadata": {},
   "outputs": [],
   "source": [
    "penalty_value = 1\n",
    "qubo_problem = QuadraticProgramToQubo(penalty=penalty_value).convert(mod)"
   ]
  },
  {
   "cell_type": "code",
   "execution_count": 14,
   "metadata": {},
   "outputs": [
    {
     "name": "stdout",
     "output_type": "stream",
     "text": [
      "Problem name: maximum coverage problem\n",
      "\n",
      "Minimize\n",
      "  10*x1*x2 + 10*x1*x3 + 10*x1*x4 + 10*x2*x4 + 10*x3*x4 - 29*x1 - 19*x2 - 19*x3\n",
      "  - 29*x4 + 50\n",
      "\n",
      "Subject to\n",
      "  No constraints\n",
      "\n",
      "  Binary variables (4)\n",
      "    x1 x2 x3 x4\n",
      "\n"
     ]
    }
   ],
   "source": [
    "print(qubo_problem.prettyprint())"
   ]
  },
  {
   "cell_type": "code",
   "execution_count": 20,
   "metadata": {},
   "outputs": [
    {
     "data": {
      "text/plain": [
       "12.0"
      ]
     },
     "execution_count": 20,
     "metadata": {},
     "output_type": "execute_result"
    }
   ],
   "source": [
    "values = {'x1': 1, 'x2': 1, 'x3': 0, 'x4': 0}\n",
    "qubo_problem.objective.evaluate([values[f'x{i}'] for i in range(1, 5)])"
   ]
  }
 ],
 "metadata": {
  "kernelspec": {
   "display_name": ".venv",
   "language": "python",
   "name": "python3"
  },
  "language_info": {
   "codemirror_mode": {
    "name": "ipython",
    "version": 3
   },
   "file_extension": ".py",
   "mimetype": "text/x-python",
   "name": "python",
   "nbconvert_exporter": "python",
   "pygments_lexer": "ipython3",
   "version": "3.12.8"
  }
 },
 "nbformat": 4,
 "nbformat_minor": 2
}
